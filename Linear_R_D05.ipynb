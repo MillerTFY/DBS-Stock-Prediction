{
 "cells": [
  {
   "cell_type": "code",
   "execution_count": 3,
   "id": "6202af25",
   "metadata": {},
   "outputs": [],
   "source": [
    "import pandas as pd\n",
    "import numpy as np"
   ]
  },
  {
   "cell_type": "code",
   "execution_count": 4,
   "id": "97363764",
   "metadata": {},
   "outputs": [],
   "source": [
    "df = pd.read_csv(\"C:/Users/mille/Downloads/MiniMASTER/TFYCV_project/D05.SI.csv\") #Using D05 file on May 22 data\n"
   ]
  },
  {
   "cell_type": "code",
   "execution_count": 5,
   "id": "e0f7e9aa",
   "metadata": {
    "scrolled": true
   },
   "outputs": [
    {
     "name": "stdout",
     "output_type": "stream",
     "text": [
      "          Date       Open       High        Low      Close  Adj Close  \\\n",
      "0    3/18/2021  28.280001  28.379999  28.180000  28.379999  27.455450   \n",
      "1    3/19/2021  28.280001  28.690001  28.270000  28.510000  27.581219   \n",
      "2    3/22/2021  28.450001  28.680000  28.219999  28.379999  27.455450   \n",
      "3    3/23/2021  28.230000  28.450001  28.129999  28.200001  27.281317   \n",
      "4    3/24/2021  28.090000  28.320000  28.010000  28.299999  27.378061   \n",
      "..         ...        ...        ...        ...        ...        ...   \n",
      "300  5/30/2022  31.299999  31.350000  31.170000  31.170000  31.170000   \n",
      "301  5/31/2022  31.209999  31.750000  30.940001  30.940001  30.940001   \n",
      "302   6/1/2022  31.139999  31.370001  31.000000  31.209999  31.209999   \n",
      "303   6/2/2022  31.129999  31.320000  31.010000  31.049999  31.049999   \n",
      "304   6/3/2022  31.299999  31.299999  30.910000  30.969999  30.969999   \n",
      "\n",
      "       Volume  12 Day EMA  26 Day EMA      MACD    Signal  Histogram  \\\n",
      "0     4865600         NaN         NaN       NaN       NaN        NaN   \n",
      "1    10310600         NaN         NaN       NaN       NaN        NaN   \n",
      "2     3718100         NaN         NaN       NaN       NaN        NaN   \n",
      "3     3638100         NaN         NaN       NaN       NaN        NaN   \n",
      "4     2926800         NaN         NaN       NaN       NaN        NaN   \n",
      "..        ...         ...         ...       ...       ...        ...   \n",
      "300   4358500   31.238698   31.988818 -0.750120 -0.784819   0.034698   \n",
      "301  20586700   31.192745   31.911128 -0.718384 -0.771532   0.053148   \n",
      "302   7198699   31.195399   31.859193 -0.663794 -0.749984   0.086191   \n",
      "303   3502600   31.173030   31.799252 -0.626223 -0.725232   0.099009   \n",
      "304   1676800   31.141794   31.737826 -0.596032 -0.699392   0.103360   \n",
      "\n",
      "     5 Day EMA  15 Day EMA    MACD.1  Signal.1  Histogram.1  \n",
      "0          NaN         NaN       NaN       NaN          NaN  \n",
      "1          NaN         NaN       NaN       NaN          NaN  \n",
      "2          NaN         NaN       NaN       NaN          NaN  \n",
      "3          NaN         NaN       NaN       NaN          NaN  \n",
      "4    28.354000         NaN       NaN       NaN          NaN  \n",
      "..         ...         ...       ...       ...          ...  \n",
      "300  31.008684   31.404792 -0.396109 -0.640672     0.244563  \n",
      "301  30.985789   31.346693 -0.360904 -0.584718     0.223814  \n",
      "302  31.060526   31.329607 -0.269081 -0.521591     0.252510  \n",
      "303  31.057017   31.294656 -0.237639 -0.464800     0.227162  \n",
      "304  31.028011   31.254073 -0.226063 -0.417053     0.190990  \n",
      "\n",
      "[305 rows x 17 columns]\n"
     ]
    }
   ],
   "source": [
    "print(df) # Look at Overveiw for Nan or error entry"
   ]
  },
  {
   "cell_type": "code",
   "execution_count": 6,
   "id": "ae993307",
   "metadata": {},
   "outputs": [
    {
     "data": {
      "text/plain": [
       "Index(['Date', 'Open', 'High', 'Low', 'Close', 'Adj Close', 'Volume',\n",
       "       '12 Day EMA', '26 Day EMA', 'MACD', 'Signal', 'Histogram', '5 Day EMA',\n",
       "       '15 Day EMA', 'MACD.1', 'Signal.1', 'Histogram.1'],\n",
       "      dtype='object')"
      ]
     },
     "execution_count": 6,
     "metadata": {},
     "output_type": "execute_result"
    }
   ],
   "source": [
    "df.columns # Veiw columns name"
   ]
  },
  {
   "cell_type": "markdown",
   "id": "50b156a2",
   "metadata": {},
   "source": [
    "# Data cleaning"
   ]
  },
  {
   "cell_type": "code",
   "execution_count": 7,
   "id": "60c70705",
   "metadata": {},
   "outputs": [
    {
     "data": {
      "text/html": [
       "<div>\n",
       "<style scoped>\n",
       "    .dataframe tbody tr th:only-of-type {\n",
       "        vertical-align: middle;\n",
       "    }\n",
       "\n",
       "    .dataframe tbody tr th {\n",
       "        vertical-align: top;\n",
       "    }\n",
       "\n",
       "    .dataframe thead th {\n",
       "        text-align: right;\n",
       "    }\n",
       "</style>\n",
       "<table border=\"1\" class=\"dataframe\">\n",
       "  <thead>\n",
       "    <tr style=\"text-align: right;\">\n",
       "      <th></th>\n",
       "      <th>Date</th>\n",
       "      <th>Open</th>\n",
       "      <th>High</th>\n",
       "      <th>Low</th>\n",
       "      <th>Close</th>\n",
       "      <th>Adj Close</th>\n",
       "      <th>Volume</th>\n",
       "      <th>12 Day EMA</th>\n",
       "      <th>26 Day EMA</th>\n",
       "      <th>MACD</th>\n",
       "      <th>Signal</th>\n",
       "      <th>Histogram</th>\n",
       "      <th>5 Day EMA</th>\n",
       "      <th>15 Day EMA</th>\n",
       "      <th>MACD.1</th>\n",
       "      <th>Signal.1</th>\n",
       "      <th>Histogram.1</th>\n",
       "    </tr>\n",
       "  </thead>\n",
       "  <tbody>\n",
       "    <tr>\n",
       "      <th>33</th>\n",
       "      <td>5/5/2021</td>\n",
       "      <td>28.950001</td>\n",
       "      <td>29.440001</td>\n",
       "      <td>28.950001</td>\n",
       "      <td>29.350000</td>\n",
       "      <td>28.569365</td>\n",
       "      <td>3196300</td>\n",
       "      <td>29.288431</td>\n",
       "      <td>29.070702</td>\n",
       "      <td>0.217729</td>\n",
       "      <td>0.165650</td>\n",
       "      <td>0.052079</td>\n",
       "      <td>29.430004</td>\n",
       "      <td>29.229633</td>\n",
       "      <td>0.200371</td>\n",
       "      <td>0.210342</td>\n",
       "      <td>-0.009971</td>\n",
       "    </tr>\n",
       "    <tr>\n",
       "      <th>34</th>\n",
       "      <td>5/6/2021</td>\n",
       "      <td>29.520000</td>\n",
       "      <td>29.650000</td>\n",
       "      <td>29.430000</td>\n",
       "      <td>29.570000</td>\n",
       "      <td>28.783512</td>\n",
       "      <td>3666173</td>\n",
       "      <td>29.331749</td>\n",
       "      <td>29.107687</td>\n",
       "      <td>0.224062</td>\n",
       "      <td>0.177332</td>\n",
       "      <td>0.046730</td>\n",
       "      <td>29.476669</td>\n",
       "      <td>29.272179</td>\n",
       "      <td>0.204491</td>\n",
       "      <td>0.209172</td>\n",
       "      <td>-0.004681</td>\n",
       "    </tr>\n",
       "    <tr>\n",
       "      <th>35</th>\n",
       "      <td>5/7/2021</td>\n",
       "      <td>29.570000</td>\n",
       "      <td>29.879999</td>\n",
       "      <td>29.459999</td>\n",
       "      <td>29.860001</td>\n",
       "      <td>29.065800</td>\n",
       "      <td>4096800</td>\n",
       "      <td>29.413019</td>\n",
       "      <td>29.163414</td>\n",
       "      <td>0.249605</td>\n",
       "      <td>0.191787</td>\n",
       "      <td>0.057818</td>\n",
       "      <td>29.604447</td>\n",
       "      <td>29.345656</td>\n",
       "      <td>0.258790</td>\n",
       "      <td>0.219095</td>\n",
       "      <td>0.039695</td>\n",
       "    </tr>\n",
       "    <tr>\n",
       "      <th>36</th>\n",
       "      <td>5/10/2021</td>\n",
       "      <td>29.900000</td>\n",
       "      <td>30.000000</td>\n",
       "      <td>29.500000</td>\n",
       "      <td>29.629999</td>\n",
       "      <td>29.016834</td>\n",
       "      <td>3539700</td>\n",
       "      <td>29.446400</td>\n",
       "      <td>29.197976</td>\n",
       "      <td>0.248424</td>\n",
       "      <td>0.203114</td>\n",
       "      <td>0.045310</td>\n",
       "      <td>29.612964</td>\n",
       "      <td>29.381199</td>\n",
       "      <td>0.231765</td>\n",
       "      <td>0.221629</td>\n",
       "      <td>0.010135</td>\n",
       "    </tr>\n",
       "    <tr>\n",
       "      <th>37</th>\n",
       "      <td>5/11/2021</td>\n",
       "      <td>29.480000</td>\n",
       "      <td>29.590000</td>\n",
       "      <td>29.350000</td>\n",
       "      <td>29.440001</td>\n",
       "      <td>28.830767</td>\n",
       "      <td>8044900</td>\n",
       "      <td>29.445416</td>\n",
       "      <td>29.215904</td>\n",
       "      <td>0.229512</td>\n",
       "      <td>0.208394</td>\n",
       "      <td>0.021118</td>\n",
       "      <td>29.555310</td>\n",
       "      <td>29.388550</td>\n",
       "      <td>0.166760</td>\n",
       "      <td>0.210655</td>\n",
       "      <td>-0.043895</td>\n",
       "    </tr>\n",
       "    <tr>\n",
       "      <th>...</th>\n",
       "      <td>...</td>\n",
       "      <td>...</td>\n",
       "      <td>...</td>\n",
       "      <td>...</td>\n",
       "      <td>...</td>\n",
       "      <td>...</td>\n",
       "      <td>...</td>\n",
       "      <td>...</td>\n",
       "      <td>...</td>\n",
       "      <td>...</td>\n",
       "      <td>...</td>\n",
       "      <td>...</td>\n",
       "      <td>...</td>\n",
       "      <td>...</td>\n",
       "      <td>...</td>\n",
       "      <td>...</td>\n",
       "      <td>...</td>\n",
       "    </tr>\n",
       "    <tr>\n",
       "      <th>300</th>\n",
       "      <td>5/30/2022</td>\n",
       "      <td>31.299999</td>\n",
       "      <td>31.350000</td>\n",
       "      <td>31.170000</td>\n",
       "      <td>31.170000</td>\n",
       "      <td>31.170000</td>\n",
       "      <td>4358500</td>\n",
       "      <td>31.238698</td>\n",
       "      <td>31.988818</td>\n",
       "      <td>-0.750120</td>\n",
       "      <td>-0.784819</td>\n",
       "      <td>0.034698</td>\n",
       "      <td>31.008684</td>\n",
       "      <td>31.404792</td>\n",
       "      <td>-0.396109</td>\n",
       "      <td>-0.640672</td>\n",
       "      <td>0.244563</td>\n",
       "    </tr>\n",
       "    <tr>\n",
       "      <th>301</th>\n",
       "      <td>5/31/2022</td>\n",
       "      <td>31.209999</td>\n",
       "      <td>31.750000</td>\n",
       "      <td>30.940001</td>\n",
       "      <td>30.940001</td>\n",
       "      <td>30.940001</td>\n",
       "      <td>20586700</td>\n",
       "      <td>31.192745</td>\n",
       "      <td>31.911128</td>\n",
       "      <td>-0.718384</td>\n",
       "      <td>-0.771532</td>\n",
       "      <td>0.053148</td>\n",
       "      <td>30.985789</td>\n",
       "      <td>31.346693</td>\n",
       "      <td>-0.360904</td>\n",
       "      <td>-0.584718</td>\n",
       "      <td>0.223814</td>\n",
       "    </tr>\n",
       "    <tr>\n",
       "      <th>302</th>\n",
       "      <td>6/1/2022</td>\n",
       "      <td>31.139999</td>\n",
       "      <td>31.370001</td>\n",
       "      <td>31.000000</td>\n",
       "      <td>31.209999</td>\n",
       "      <td>31.209999</td>\n",
       "      <td>7198699</td>\n",
       "      <td>31.195399</td>\n",
       "      <td>31.859193</td>\n",
       "      <td>-0.663794</td>\n",
       "      <td>-0.749984</td>\n",
       "      <td>0.086191</td>\n",
       "      <td>31.060526</td>\n",
       "      <td>31.329607</td>\n",
       "      <td>-0.269081</td>\n",
       "      <td>-0.521591</td>\n",
       "      <td>0.252510</td>\n",
       "    </tr>\n",
       "    <tr>\n",
       "      <th>303</th>\n",
       "      <td>6/2/2022</td>\n",
       "      <td>31.129999</td>\n",
       "      <td>31.320000</td>\n",
       "      <td>31.010000</td>\n",
       "      <td>31.049999</td>\n",
       "      <td>31.049999</td>\n",
       "      <td>3502600</td>\n",
       "      <td>31.173030</td>\n",
       "      <td>31.799252</td>\n",
       "      <td>-0.626223</td>\n",
       "      <td>-0.725232</td>\n",
       "      <td>0.099009</td>\n",
       "      <td>31.057017</td>\n",
       "      <td>31.294656</td>\n",
       "      <td>-0.237639</td>\n",
       "      <td>-0.464800</td>\n",
       "      <td>0.227162</td>\n",
       "    </tr>\n",
       "    <tr>\n",
       "      <th>304</th>\n",
       "      <td>6/3/2022</td>\n",
       "      <td>31.299999</td>\n",
       "      <td>31.299999</td>\n",
       "      <td>30.910000</td>\n",
       "      <td>30.969999</td>\n",
       "      <td>30.969999</td>\n",
       "      <td>1676800</td>\n",
       "      <td>31.141794</td>\n",
       "      <td>31.737826</td>\n",
       "      <td>-0.596032</td>\n",
       "      <td>-0.699392</td>\n",
       "      <td>0.103360</td>\n",
       "      <td>31.028011</td>\n",
       "      <td>31.254073</td>\n",
       "      <td>-0.226063</td>\n",
       "      <td>-0.417053</td>\n",
       "      <td>0.190990</td>\n",
       "    </tr>\n",
       "  </tbody>\n",
       "</table>\n",
       "<p>272 rows × 17 columns</p>\n",
       "</div>"
      ],
      "text/plain": [
       "          Date       Open       High        Low      Close  Adj Close  \\\n",
       "33    5/5/2021  28.950001  29.440001  28.950001  29.350000  28.569365   \n",
       "34    5/6/2021  29.520000  29.650000  29.430000  29.570000  28.783512   \n",
       "35    5/7/2021  29.570000  29.879999  29.459999  29.860001  29.065800   \n",
       "36   5/10/2021  29.900000  30.000000  29.500000  29.629999  29.016834   \n",
       "37   5/11/2021  29.480000  29.590000  29.350000  29.440001  28.830767   \n",
       "..         ...        ...        ...        ...        ...        ...   \n",
       "300  5/30/2022  31.299999  31.350000  31.170000  31.170000  31.170000   \n",
       "301  5/31/2022  31.209999  31.750000  30.940001  30.940001  30.940001   \n",
       "302   6/1/2022  31.139999  31.370001  31.000000  31.209999  31.209999   \n",
       "303   6/2/2022  31.129999  31.320000  31.010000  31.049999  31.049999   \n",
       "304   6/3/2022  31.299999  31.299999  30.910000  30.969999  30.969999   \n",
       "\n",
       "       Volume  12 Day EMA  26 Day EMA      MACD    Signal  Histogram  \\\n",
       "33    3196300   29.288431   29.070702  0.217729  0.165650   0.052079   \n",
       "34    3666173   29.331749   29.107687  0.224062  0.177332   0.046730   \n",
       "35    4096800   29.413019   29.163414  0.249605  0.191787   0.057818   \n",
       "36    3539700   29.446400   29.197976  0.248424  0.203114   0.045310   \n",
       "37    8044900   29.445416   29.215904  0.229512  0.208394   0.021118   \n",
       "..        ...         ...         ...       ...       ...        ...   \n",
       "300   4358500   31.238698   31.988818 -0.750120 -0.784819   0.034698   \n",
       "301  20586700   31.192745   31.911128 -0.718384 -0.771532   0.053148   \n",
       "302   7198699   31.195399   31.859193 -0.663794 -0.749984   0.086191   \n",
       "303   3502600   31.173030   31.799252 -0.626223 -0.725232   0.099009   \n",
       "304   1676800   31.141794   31.737826 -0.596032 -0.699392   0.103360   \n",
       "\n",
       "     5 Day EMA  15 Day EMA    MACD.1  Signal.1  Histogram.1  \n",
       "33   29.430004   29.229633  0.200371  0.210342    -0.009971  \n",
       "34   29.476669   29.272179  0.204491  0.209172    -0.004681  \n",
       "35   29.604447   29.345656  0.258790  0.219095     0.039695  \n",
       "36   29.612964   29.381199  0.231765  0.221629     0.010135  \n",
       "37   29.555310   29.388550  0.166760  0.210655    -0.043895  \n",
       "..         ...         ...       ...       ...          ...  \n",
       "300  31.008684   31.404792 -0.396109 -0.640672     0.244563  \n",
       "301  30.985789   31.346693 -0.360904 -0.584718     0.223814  \n",
       "302  31.060526   31.329607 -0.269081 -0.521591     0.252510  \n",
       "303  31.057017   31.294656 -0.237639 -0.464800     0.227162  \n",
       "304  31.028011   31.254073 -0.226063 -0.417053     0.190990  \n",
       "\n",
       "[272 rows x 17 columns]"
      ]
     },
     "execution_count": 7,
     "metadata": {},
     "output_type": "execute_result"
    }
   ],
   "source": [
    "df.dropna(how = 'any') #dropna() = remove missing values. Optional () default 'any'. \n",
    "#Specifies whether to remove the row or column when ALL values are NULL, or if ANY vale is NULL."
   ]
  },
  {
   "cell_type": "code",
   "execution_count": 8,
   "id": "ef296b19",
   "metadata": {},
   "outputs": [
    {
     "data": {
      "text/plain": [
       "Date            0\n",
       "Open            0\n",
       "High            0\n",
       "Low             0\n",
       "Close           0\n",
       "Adj Close       0\n",
       "Volume          0\n",
       "12 Day EMA     11\n",
       "26 Day EMA     25\n",
       "MACD           25\n",
       "Signal         33\n",
       "Histogram      33\n",
       "5 Day EMA       4\n",
       "15 Day EMA     14\n",
       "MACD.1         14\n",
       "Signal.1       22\n",
       "Histogram.1    22\n",
       "dtype: int64"
      ]
     },
     "execution_count": 8,
     "metadata": {},
     "output_type": "execute_result"
    }
   ],
   "source": [
    "df.isnull().sum()  # #Produces the sum of null records by col. Ensure all below value is zero. If no, need to clear it "
   ]
  },
  {
   "cell_type": "code",
   "execution_count": 9,
   "id": "d0396703",
   "metadata": {},
   "outputs": [],
   "source": [
    "df.dropna(inplace=True) #dropna() = remove missing values.\n",
    "#Optional, default False. If True: the removing is done on the current DataFrame. \n",
    "#If False: returns a copy where the removing is done."
   ]
  },
  {
   "cell_type": "code",
   "execution_count": 10,
   "id": "e5c636b8",
   "metadata": {},
   "outputs": [
    {
     "data": {
      "text/plain": [
       "Date           0\n",
       "Open           0\n",
       "High           0\n",
       "Low            0\n",
       "Close          0\n",
       "Adj Close      0\n",
       "Volume         0\n",
       "12 Day EMA     0\n",
       "26 Day EMA     0\n",
       "MACD           0\n",
       "Signal         0\n",
       "Histogram      0\n",
       "5 Day EMA      0\n",
       "15 Day EMA     0\n",
       "MACD.1         0\n",
       "Signal.1       0\n",
       "Histogram.1    0\n",
       "dtype: int64"
      ]
     },
     "execution_count": 10,
     "metadata": {},
     "output_type": "execute_result"
    }
   ],
   "source": [
    "df.isnull().sum()"
   ]
  },
  {
   "cell_type": "code",
   "execution_count": 11,
   "id": "bd704d80",
   "metadata": {},
   "outputs": [],
   "source": [
    "#Rename columns Name Signal.1 and Histogram.1\n",
    "df = df.rename(columns={'Signal.1': 'Signal_5'})"
   ]
  },
  {
   "cell_type": "code",
   "execution_count": 12,
   "id": "902219dc",
   "metadata": {},
   "outputs": [
    {
     "data": {
      "text/plain": [
       "Index(['Date', 'Open', 'High', 'Low', 'Close', 'Adj Close', 'Volume',\n",
       "       '12 Day EMA', '26 Day EMA', 'MACD', 'Signal', 'Histogram', '5 Day EMA',\n",
       "       '15 Day EMA', 'MACD.1', 'Signal_5', 'Histogram.1'],\n",
       "      dtype='object')"
      ]
     },
     "execution_count": 12,
     "metadata": {},
     "output_type": "execute_result"
    }
   ],
   "source": [
    "df.columns #To check name change to Signal_5 and Histogram_15"
   ]
  },
  {
   "cell_type": "code",
   "execution_count": 13,
   "id": "e1191328",
   "metadata": {},
   "outputs": [
    {
     "name": "stdout",
     "output_type": "stream",
     "text": [
      "          Date       Open       High        Low      Close  Adj Close  \\\n",
      "33    5/5/2021  28.950001  29.440001  28.950001  29.350000  28.569365   \n",
      "34    5/6/2021  29.520000  29.650000  29.430000  29.570000  28.783512   \n",
      "35    5/7/2021  29.570000  29.879999  29.459999  29.860001  29.065800   \n",
      "36   5/10/2021  29.900000  30.000000  29.500000  29.629999  29.016834   \n",
      "37   5/11/2021  29.480000  29.590000  29.350000  29.440001  28.830767   \n",
      "..         ...        ...        ...        ...        ...        ...   \n",
      "300  5/30/2022  31.299999  31.350000  31.170000  31.170000  31.170000   \n",
      "301  5/31/2022  31.209999  31.750000  30.940001  30.940001  30.940001   \n",
      "302   6/1/2022  31.139999  31.370001  31.000000  31.209999  31.209999   \n",
      "303   6/2/2022  31.129999  31.320000  31.010000  31.049999  31.049999   \n",
      "304   6/3/2022  31.299999  31.299999  30.910000  30.969999  30.969999   \n",
      "\n",
      "       Volume  12 Day EMA  26 Day EMA      MACD    Signal  Histogram  \\\n",
      "33    3196300   29.288431   29.070702  0.217729  0.165650   0.052079   \n",
      "34    3666173   29.331749   29.107687  0.224062  0.177332   0.046730   \n",
      "35    4096800   29.413019   29.163414  0.249605  0.191787   0.057818   \n",
      "36    3539700   29.446400   29.197976  0.248424  0.203114   0.045310   \n",
      "37    8044900   29.445416   29.215904  0.229512  0.208394   0.021118   \n",
      "..        ...         ...         ...       ...       ...        ...   \n",
      "300   4358500   31.238698   31.988818 -0.750120 -0.784819   0.034698   \n",
      "301  20586700   31.192745   31.911128 -0.718384 -0.771532   0.053148   \n",
      "302   7198699   31.195399   31.859193 -0.663794 -0.749984   0.086191   \n",
      "303   3502600   31.173030   31.799252 -0.626223 -0.725232   0.099009   \n",
      "304   1676800   31.141794   31.737826 -0.596032 -0.699392   0.103360   \n",
      "\n",
      "     5 Day EMA  15 Day EMA    MACD.1  Signal_5  Histogram.1  \n",
      "33   29.430004   29.229633  0.200371  0.210342    -0.009971  \n",
      "34   29.476669   29.272179  0.204491  0.209172    -0.004681  \n",
      "35   29.604447   29.345656  0.258790  0.219095     0.039695  \n",
      "36   29.612964   29.381199  0.231765  0.221629     0.010135  \n",
      "37   29.555310   29.388550  0.166760  0.210655    -0.043895  \n",
      "..         ...         ...       ...       ...          ...  \n",
      "300  31.008684   31.404792 -0.396109 -0.640672     0.244563  \n",
      "301  30.985789   31.346693 -0.360904 -0.584718     0.223814  \n",
      "302  31.060526   31.329607 -0.269081 -0.521591     0.252510  \n",
      "303  31.057017   31.294656 -0.237639 -0.464800     0.227162  \n",
      "304  31.028011   31.254073 -0.226063 -0.417053     0.190990  \n",
      "\n",
      "[272 rows x 17 columns]\n"
     ]
    }
   ],
   "source": [
    "print(df) "
   ]
  },
  {
   "cell_type": "markdown",
   "id": "0f2edf64",
   "metadata": {},
   "source": [
    "# Feature Engineering"
   ]
  },
  {
   "cell_type": "code",
   "execution_count": 14,
   "id": "9695a87b",
   "metadata": {},
   "outputs": [],
   "source": [
    "df = df.loc[:, [\"Close\", \"Signal_5\"]]\n",
    "#set df as number varibles\n"
   ]
  },
  {
   "cell_type": "code",
   "execution_count": 15,
   "id": "f402f89a",
   "metadata": {},
   "outputs": [
    {
     "data": {
      "text/html": [
       "<div>\n",
       "<style scoped>\n",
       "    .dataframe tbody tr th:only-of-type {\n",
       "        vertical-align: middle;\n",
       "    }\n",
       "\n",
       "    .dataframe tbody tr th {\n",
       "        vertical-align: top;\n",
       "    }\n",
       "\n",
       "    .dataframe thead th {\n",
       "        text-align: right;\n",
       "    }\n",
       "</style>\n",
       "<table border=\"1\" class=\"dataframe\">\n",
       "  <thead>\n",
       "    <tr style=\"text-align: right;\">\n",
       "      <th></th>\n",
       "      <th>Close</th>\n",
       "      <th>Signal_5</th>\n",
       "    </tr>\n",
       "  </thead>\n",
       "  <tbody>\n",
       "    <tr>\n",
       "      <th>33</th>\n",
       "      <td>29.350000</td>\n",
       "      <td>0.210342</td>\n",
       "    </tr>\n",
       "    <tr>\n",
       "      <th>34</th>\n",
       "      <td>29.570000</td>\n",
       "      <td>0.209172</td>\n",
       "    </tr>\n",
       "    <tr>\n",
       "      <th>35</th>\n",
       "      <td>29.860001</td>\n",
       "      <td>0.219095</td>\n",
       "    </tr>\n",
       "    <tr>\n",
       "      <th>36</th>\n",
       "      <td>29.629999</td>\n",
       "      <td>0.221629</td>\n",
       "    </tr>\n",
       "    <tr>\n",
       "      <th>37</th>\n",
       "      <td>29.440001</td>\n",
       "      <td>0.210655</td>\n",
       "    </tr>\n",
       "    <tr>\n",
       "      <th>...</th>\n",
       "      <td>...</td>\n",
       "      <td>...</td>\n",
       "    </tr>\n",
       "    <tr>\n",
       "      <th>300</th>\n",
       "      <td>31.170000</td>\n",
       "      <td>-0.640672</td>\n",
       "    </tr>\n",
       "    <tr>\n",
       "      <th>301</th>\n",
       "      <td>30.940001</td>\n",
       "      <td>-0.584718</td>\n",
       "    </tr>\n",
       "    <tr>\n",
       "      <th>302</th>\n",
       "      <td>31.209999</td>\n",
       "      <td>-0.521591</td>\n",
       "    </tr>\n",
       "    <tr>\n",
       "      <th>303</th>\n",
       "      <td>31.049999</td>\n",
       "      <td>-0.464800</td>\n",
       "    </tr>\n",
       "    <tr>\n",
       "      <th>304</th>\n",
       "      <td>30.969999</td>\n",
       "      <td>-0.417053</td>\n",
       "    </tr>\n",
       "  </tbody>\n",
       "</table>\n",
       "<p>272 rows × 2 columns</p>\n",
       "</div>"
      ],
      "text/plain": [
       "         Close  Signal_5\n",
       "33   29.350000  0.210342\n",
       "34   29.570000  0.209172\n",
       "35   29.860001  0.219095\n",
       "36   29.629999  0.221629\n",
       "37   29.440001  0.210655\n",
       "..         ...       ...\n",
       "300  31.170000 -0.640672\n",
       "301  30.940001 -0.584718\n",
       "302  31.209999 -0.521591\n",
       "303  31.049999 -0.464800\n",
       "304  30.969999 -0.417053\n",
       "\n",
       "[272 rows x 2 columns]"
      ]
     },
     "execution_count": 15,
     "metadata": {},
     "output_type": "execute_result"
    }
   ],
   "source": [
    "df "
   ]
  },
  {
   "cell_type": "code",
   "execution_count": 16,
   "id": "57507dcc",
   "metadata": {},
   "outputs": [
    {
     "name": "stdout",
     "output_type": "stream",
     "text": [
      "     Signal_5\n",
      "33   0.210342\n",
      "34   0.209172\n",
      "35   0.219095\n",
      "36   0.221629\n",
      "37   0.210655\n",
      "..        ...\n",
      "300 -0.640672\n",
      "301 -0.584718\n",
      "302 -0.521591\n",
      "303 -0.464800\n",
      "304 -0.417053\n",
      "\n",
      "[272 rows x 1 columns]\n",
      "         Close\n",
      "33   29.350000\n",
      "34   29.570000\n",
      "35   29.860001\n",
      "36   29.629999\n",
      "37   29.440001\n",
      "..         ...\n",
      "300  31.170000\n",
      "301  30.940001\n",
      "302  31.209999\n",
      "303  31.049999\n",
      "304  30.969999\n",
      "\n",
      "[272 rows x 1 columns]\n"
     ]
    }
   ],
   "source": [
    "X = df.loc[:,[\"Signal_5\"]]\n",
    "Y = df.loc[:,[\"Close\"]]\n",
    "print(X)\n",
    "print(Y)"
   ]
  },
  {
   "cell_type": "code",
   "execution_count": 17,
   "id": "d4ed21f6",
   "metadata": {},
   "outputs": [
    {
     "data": {
      "text/plain": [
       "array([[<AxesSubplot:title={'center':'Close'}>,\n",
       "        <AxesSubplot:title={'center':'Signal_5'}>]], dtype=object)"
      ]
     },
     "execution_count": 17,
     "metadata": {},
     "output_type": "execute_result"
    },
    {
     "data": {
      "image/png": "[encoded data removed]",
      "text/plain": [
       "<Figure size 432x288 with 2 Axes>"
      ]
     },
     "metadata": {
      "needs_background": "light"
     },
     "output_type": "display_data"
    }
   ],
   "source": [
    "df.hist()"
   ]
  },
  {
   "cell_type": "code",
   "execution_count": 18,
   "id": "aa84b2c9",
   "metadata": {},
   "outputs": [],
   "source": [
    "import seaborn as sns"
   ]
  },
  {
   "cell_type": "code",
   "execution_count": 19,
   "id": "5fb0eeda",
   "metadata": {},
   "outputs": [
    {
     "data": {
      "text/plain": [
       "<AxesSubplot:>"
      ]
     },
     "execution_count": 19,
     "metadata": {},
     "output_type": "execute_result"
    },
    {
     "data": {
      "image/png": "[encoded data removed]",
      "text/plain": [
       "<Figure size 432x288 with 2 Axes>"
      ]
     },
     "metadata": {
      "needs_background": "light"
     },
     "output_type": "display_data"
    }
   ],
   "source": [
    "sns.heatmap(df.loc[:,[\"Close\", \"Signal_5\"]].corr(method=\"spearman\"), cmap=\"YlGnBu\", annot=True)\n",
    "#Spearman correlation evaluates the monotonic relationship."
   ]
  },
  {
   "cell_type": "code",
   "execution_count": 20,
   "id": "4644fa08",
   "metadata": {},
   "outputs": [
    {
     "data": {
      "text/plain": [
       "<AxesSubplot:>"
      ]
     },
     "execution_count": 20,
     "metadata": {},
     "output_type": "execute_result"
    },
    {
     "data": {
      "image/png": "[encoded data removed]",
      "text/plain": [
       "<Figure size 432x288 with 2 Axes>"
      ]
     },
     "metadata": {
      "needs_background": "light"
     },
     "output_type": "display_data"
    }
   ],
   "source": [
    "sns.heatmap(df.loc[:,[\"Close\", \"Signal_5\"]].corr(method=\"pearson\"), cmap=\"YlGnBu\", annot=True)\n",
    "#Pearson correlation evaluates the linear relationship between two continuous variables"
   ]
  },
  {
   "cell_type": "markdown",
   "id": "b9e947a3",
   "metadata": {},
   "source": [
    "#Heatmap correlation range Close to -1 or 1 is good. Less than 0.5 mean no linear regression(LR). Above result show NG for Linear Regression"
   ]
  },
  {
   "cell_type": "markdown",
   "id": "cb4aada2",
   "metadata": {},
   "source": [
    "# Train_test_split"
   ]
  },
  {
   "cell_type": "code",
   "execution_count": 21,
   "id": "ef955316",
   "metadata": {},
   "outputs": [],
   "source": [
    "from sklearn.model_selection import train_test_split"
   ]
  },
  {
   "cell_type": "code",
   "execution_count": 22,
   "id": "380d533a",
   "metadata": {},
   "outputs": [],
   "source": [
    "X_train, X_test, Y_train, Y_test = train_test_split(X,Y) \n",
    "# Split Train model and test model. Always split 70% train model and 30% test model"
   ]
  },
  {
   "cell_type": "code",
   "execution_count": 23,
   "id": "73c4e550",
   "metadata": {},
   "outputs": [
    {
     "name": "stdout",
     "output_type": "stream",
     "text": [
      "     Signal_5\n",
      "149  0.187742\n",
      "223  0.337880\n",
      "33   0.210342\n",
      "268  0.304510\n",
      "98   0.245090\n",
      "..        ...\n",
      "96   0.149133\n",
      "180 -0.208104\n",
      "266  0.446438\n",
      "243 -0.666756\n",
      "286 -0.275653\n",
      "\n",
      "[204 rows x 1 columns]      Signal_5\n",
      "47   0.151133\n",
      "218  0.662832\n",
      "271 -0.111652\n",
      "111 -0.081827\n",
      "272 -0.230076\n",
      "..        ...\n",
      "92   0.083700\n",
      "103  0.269995\n",
      "44   0.108449\n",
      "295 -0.753702\n",
      "104  0.218211\n",
      "\n",
      "[68 rows x 1 columns]          Close\n",
      "149  31.320000\n",
      "223  35.950001\n",
      "33   29.350000\n",
      "268  34.369999\n",
      "98   31.680000\n",
      "..         ...\n",
      "96   30.799999\n",
      "180  31.469999\n",
      "266  35.750000\n",
      "243  32.599998\n",
      "286  32.900002\n",
      "\n",
      "[204 rows x 1 columns]          Close\n",
      "47   30.059999\n",
      "218  35.310001\n",
      "271  33.580002\n",
      "111  30.100000\n",
      "272  33.480000\n",
      "..         ...\n",
      "92   30.410000\n",
      "103  30.469999\n",
      "44   29.830000\n",
      "295  30.700001\n",
      "104  30.420000\n",
      "\n",
      "[68 rows x 1 columns]\n"
     ]
    }
   ],
   "source": [
    "print(X_train, X_test, Y_train, Y_test)"
   ]
  },
  {
   "cell_type": "code",
   "execution_count": 24,
   "id": "2b78fff5",
   "metadata": {},
   "outputs": [
    {
     "name": "stdout",
     "output_type": "stream",
     "text": [
      "204\n",
      "68\n",
      "204\n",
      "68\n"
     ]
    }
   ],
   "source": [
    "\n",
    "print(len(X_train))\n",
    "print(len(X_test))\n",
    "\n",
    "print(len(Y_train))\n",
    "print(len(Y_test))"
   ]
  },
  {
   "cell_type": "markdown",
   "id": "6c6c522d",
   "metadata": {},
   "source": [
    "# Linear Regression"
   ]
  },
  {
   "cell_type": "code",
   "execution_count": 25,
   "id": "139cff1c",
   "metadata": {},
   "outputs": [
    {
     "name": "stdout",
     "output_type": "stream",
     "text": [
      "[[32.23562273]\n",
      " [32.50755727]\n",
      " [32.27655654]\n",
      " [32.44711695]\n",
      " [32.33949269]\n",
      " [32.22664441]\n",
      " [32.62673763]\n",
      " [32.03106662]\n",
      " [30.99067778]\n",
      " [30.92568879]\n",
      " [31.72250518]\n",
      " [31.97589452]\n",
      " [33.58416098]\n",
      " [30.67855364]\n",
      " [31.57677003]\n",
      " [33.15970908]\n",
      " [32.53108107]\n",
      " [31.09286823]\n",
      " [32.72933829]\n",
      " [31.54494941]\n",
      " [31.86221534]\n",
      " [31.86730212]\n",
      " [31.94981918]\n",
      " [32.06810135]\n",
      " [32.50735271]\n",
      " [32.60097173]\n",
      " [32.035293  ]\n",
      " [32.46118668]\n",
      " [31.14019751]\n",
      " [33.24949567]\n",
      " [30.1749737 ]\n",
      " [33.29887602]\n",
      " [31.76489763]\n",
      " [31.55593224]\n",
      " [32.59062785]\n",
      " [31.72831993]\n",
      " [32.04547561]\n",
      " [31.97869158]\n",
      " [31.802233  ]\n",
      " [30.67207846]\n",
      " [31.10286636]\n",
      " [32.0604505 ]\n",
      " [32.29524018]\n",
      " [31.69687661]\n",
      " [31.83249029]\n",
      " [32.06470485]\n",
      " [32.71925817]\n",
      " [32.09175916]\n",
      " [30.99204067]\n",
      " [32.3844679 ]\n",
      " [31.84644373]\n",
      " [32.02311566]\n",
      " [32.14643906]\n",
      " [32.85512917]\n",
      " [32.65807879]\n",
      " [32.76953661]\n",
      " [31.75688183]\n",
      " [31.71617833]\n",
      " [32.03477587]\n",
      " [31.67007396]\n",
      " [32.57092029]\n",
      " [32.79106718]\n",
      " [32.13386361]\n",
      " [32.44675575]\n",
      " [32.76637982]\n",
      " [32.31156824]\n",
      " [31.54821571]\n",
      " [31.09049037]\n",
      " [32.45072278]\n",
      " [31.78704843]\n",
      " [32.07958067]\n",
      " [32.79714535]\n",
      " [32.04401686]\n",
      " [31.00192279]\n",
      " [32.6841068 ]\n",
      " [32.6912426 ]\n",
      " [31.996466  ]\n",
      " [31.95321199]\n",
      " [32.3774265 ]\n",
      " [32.30937507]\n",
      " [31.25974205]\n",
      " [31.97032271]\n",
      " [33.42089403]\n",
      " [31.89051926]\n",
      " [31.92440757]\n",
      " [30.73517076]\n",
      " [30.95102658]\n",
      " [31.62866312]\n",
      " [31.8214121 ]\n",
      " [32.14301851]\n",
      " [31.71167917]\n",
      " [32.50539125]\n",
      " [31.7479827 ]\n",
      " [32.18878762]\n",
      " [32.08142597]\n",
      " [32.81834307]\n",
      " [32.29666253]\n",
      " [32.1998185 ]\n",
      " [32.23523236]\n",
      " [32.49856656]\n",
      " [32.27712426]\n",
      " [31.91425827]\n",
      " [31.38776412]\n",
      " [32.22819167]\n",
      " [31.88196164]\n",
      " [31.76667367]\n",
      " [32.62046819]\n",
      " [33.51701891]\n",
      " [33.57029614]\n",
      " [32.43066663]\n",
      " [31.54856379]\n",
      " [31.80941753]\n",
      " [32.21447215]\n",
      " [31.27406247]\n",
      " [30.50277472]\n",
      " [31.97131816]\n",
      " [30.03137105]\n",
      " [31.05371547]\n",
      " [32.00876164]\n",
      " [31.95078527]\n",
      " [31.9653932 ]\n",
      " [30.58855902]\n",
      " [32.7298286 ]\n",
      " [32.55713989]\n",
      " [32.01236941]\n",
      " [31.71546264]\n",
      " [32.00708232]\n",
      " [30.39060549]\n",
      " [31.74913075]\n",
      " [31.26940448]\n",
      " [32.15012098]\n",
      " [30.83651588]\n",
      " [31.61466663]\n",
      " [32.98219232]\n",
      " [29.94541003]\n",
      " [32.22646588]\n",
      " [32.38204763]\n",
      " [32.2148552 ]\n",
      " [32.20268093]\n",
      " [32.04250259]\n",
      " [32.07895448]\n",
      " [32.42669659]\n",
      " [30.49014366]\n",
      " [32.35047467]\n",
      " [32.62750721]\n",
      " [30.98811765]\n",
      " [32.26543248]\n",
      " [32.09454518]\n",
      " [32.24949817]\n",
      " [30.53771557]\n",
      " [31.22689709]\n",
      " [32.20447349]\n",
      " [31.73735936]\n",
      " [31.76342962]\n",
      " [32.2919697 ]\n",
      " [32.12507388]\n",
      " [32.50040167]\n",
      " [32.84737939]\n",
      " [32.54039861]\n",
      " [32.48503658]\n",
      " [30.95085468]\n",
      " [31.82033691]\n",
      " [32.75200537]\n",
      " [30.77593433]\n",
      " [31.7558004 ]\n",
      " [32.0171389 ]\n",
      " [32.11936731]\n",
      " [30.98990976]\n",
      " [31.99085639]\n",
      " [32.53769412]\n",
      " [31.84960251]\n",
      " [31.96798885]\n",
      " [31.94518588]\n",
      " [32.68732528]\n",
      " [32.6234118 ]\n",
      " [32.07284818]\n",
      " [32.10624134]\n",
      " [31.77171118]\n",
      " [31.61342644]\n",
      " [31.19934688]\n",
      " [31.9184786 ]\n",
      " [32.42249621]\n",
      " [31.80779235]\n",
      " [32.74281914]\n",
      " [31.70923471]\n",
      " [32.01000041]\n",
      " [30.41837121]\n",
      " [32.04051197]\n",
      " [31.76352507]\n",
      " [30.55856093]\n",
      " [32.05829919]\n",
      " [32.83671107]\n",
      " [32.15998449]\n",
      " [31.72755615]\n",
      " [31.47140246]\n",
      " [32.0329131 ]\n",
      " [32.25996027]\n",
      " [32.10732765]\n",
      " [32.40626592]\n",
      " [32.16569303]\n",
      " [31.51865224]\n",
      " [32.70418192]\n",
      " [30.68792667]\n",
      " [31.39630496]]\n"
     ]
    }
   ],
   "source": [
    "\n",
    "from sklearn import linear_model\n",
    "model = linear_model.LinearRegression()\n",
    "model.fit(X_train, Y_train)\n",
    "pred = model.predict(X_train) #Predict for X,Y Train\n",
    "print(pred)\n"
   ]
  },
  {
   "cell_type": "code",
   "execution_count": 26,
   "id": "8174d625",
   "metadata": {},
   "outputs": [],
   "source": [
    "\n",
    "#from sklearn.metrics import mean_squared_error  # to get root mesan sq\n",
    "#rmse = mean_squared_error(Y_train,pred)**0.5\n",
    "#print(rmse)\n",
    "\n",
    "#RMSE > 1 model very bad, \n",
    "# 0.2<RMSE<0.5 show good model, high possibility to predict accurately\n"
   ]
  },
  {
   "cell_type": "code",
   "execution_count": 27,
   "id": "8702a51c",
   "metadata": {},
   "outputs": [
    {
     "name": "stdout",
     "output_type": "stream",
     "text": [
      "2.0508270311999293\n"
     ]
    }
   ],
   "source": [
    "model.fit(X_test, Y_test)\n",
    "pred = model.predict(X_test) #Predict for X,Y Test\n",
    "from sklearn.metrics import mean_squared_error  # to get root mesan sq\n",
    "rmse = mean_squared_error(Y_test,pred)**0.5\n",
    "print(rmse)\n",
    "\n",
    "#RMSE > 1 model very bad, \n",
    "# 0.2<RMSE<0.5 show good model, high possibility to predict accurately"
   ]
  },
  {
   "cell_type": "code",
   "execution_count": 47,
   "id": "e0ebc89c",
   "metadata": {},
   "outputs": [
    {
     "data": {
      "text/plain": [
       "['DBSReg']"
      ]
     },
     "execution_count": 47,
     "metadata": {},
     "output_type": "execute_result"
    }
   ],
   "source": [
    "#Save \n",
    "import joblib\n",
    "joblib.dump(model, \"DBSReg\")"
   ]
  },
  {
   "cell_type": "markdown",
   "id": "0d5192fe",
   "metadata": {},
   "source": [
    "# LogisticRegression - Underconstruction"
   ]
  },
  {
   "cell_type": "markdown",
   "id": "47ff4334",
   "metadata": {},
   "source": [
    "# DecisionTree"
   ]
  },
  {
   "cell_type": "code",
   "execution_count": 28,
   "id": "1ce0e91f",
   "metadata": {},
   "outputs": [],
   "source": [
    "from sklearn import tree"
   ]
  },
  {
   "cell_type": "code",
   "execution_count": 29,
   "id": "b85898dc",
   "metadata": {},
   "outputs": [],
   "source": [
    "model = tree.DecisionTreeRegressor(max_depth=2)"
   ]
  },
  {
   "cell_type": "code",
   "execution_count": 30,
   "id": "3677b0b0",
   "metadata": {},
   "outputs": [
    {
     "data": {
      "text/plain": [
       "DecisionTreeRegressor(max_depth=2)"
      ]
     },
     "execution_count": 30,
     "metadata": {},
     "output_type": "execute_result"
    }
   ],
   "source": [
    "model.fit(X,Y)"
   ]
  },
  {
   "cell_type": "code",
   "execution_count": 31,
   "id": "f82a900a",
   "metadata": {},
   "outputs": [],
   "source": [
    "pred = model.predict(X)"
   ]
  },
  {
   "cell_type": "code",
   "execution_count": 32,
   "id": "edce8fc8",
   "metadata": {},
   "outputs": [],
   "source": [
    "rmse = mean_squared_error(Y, pred) ** 0.5"
   ]
  },
  {
   "cell_type": "code",
   "execution_count": 33,
   "id": "bade039a",
   "metadata": {},
   "outputs": [
    {
     "data": {
      "text/plain": [
       "1.4582877223826398"
      ]
     },
     "execution_count": 33,
     "metadata": {},
     "output_type": "execute_result"
    }
   ],
   "source": [
    "rmse\n",
    "#RMSE > 1 model very bad, \n",
    "# 0.2<RMSE<0.5 show good model, high possibility to predict accurately\n"
   ]
  },
  {
   "cell_type": "code",
   "execution_count": 54,
   "id": "cc369f9f",
   "metadata": {},
   "outputs": [
    {
     "data": {
      "text/plain": [
       "['DBSDT']"
      ]
     },
     "execution_count": 54,
     "metadata": {},
     "output_type": "execute_result"
    }
   ],
   "source": [
    "#Save file\n",
    "import joblib\n",
    "joblib.dump(model,\"DBSDT\")"
   ]
  },
  {
   "cell_type": "markdown",
   "id": "359c8e94",
   "metadata": {},
   "source": [
    "# Neural Network"
   ]
  },
  {
   "cell_type": "code",
   "execution_count": 34,
   "id": "dba85170",
   "metadata": {},
   "outputs": [],
   "source": [
    "from sklearn.neural_network import MLPRegressor"
   ]
  },
  {
   "cell_type": "code",
   "execution_count": 35,
   "id": "ef9c4009",
   "metadata": {},
   "outputs": [],
   "source": [
    "model=MLPRegressor(solver=\"lbfgs\", hidden_layer_sizes=(12,2))"
   ]
  },
  {
   "cell_type": "code",
   "execution_count": 36,
   "id": "e95a7bb0",
   "metadata": {
    "scrolled": true
   },
   "outputs": [
    {
     "name": "stderr",
     "output_type": "stream",
     "text": [
      "C:\\Users\\mille\\anaconda3\\lib\\site-packages\\sklearn\\neural_network\\_multilayer_perceptron.py:1599: DataConversionWarning: A column-vector y was passed when a 1d array was expected. Please change the shape of y to (n_samples, ), for example using ravel().\n",
      "  y = column_or_1d(y, warn=True)\n"
     ]
    },
    {
     "data": {
      "text/plain": [
       "MLPRegressor(hidden_layer_sizes=(12, 2), solver='lbfgs')"
      ]
     },
     "execution_count": 36,
     "metadata": {},
     "output_type": "execute_result"
    }
   ],
   "source": [
    "#model.fit(X_train, Y_train)\n",
    "model.fit(X,Y)"
   ]
  },
  {
   "cell_type": "code",
   "execution_count": 37,
   "id": "797999e6",
   "metadata": {},
   "outputs": [
    {
     "name": "stdout",
     "output_type": "stream",
     "text": [
      "[31.71195952 31.70157563 31.78962902 31.81211219 31.71474073 31.57940308\n",
      " 31.35004976 31.0577691  30.96715807 30.82030277 30.75603296 30.80785306\n",
      " 30.87760117 31.0129201  31.18659771 31.4761378  31.6318895  31.81045689\n",
      " 31.80348896 31.65746376 31.40781383 31.35883133 31.28198772 31.07452608\n",
      " 30.88292289 30.65331434 30.61072266 30.59659739 30.5870007  30.57889983\n",
      " 30.56422354 30.53949927 30.49912665 30.45217998 30.41834076 30.39661609\n",
      " 30.41385034 30.60229896 30.5263895  30.41201718 30.46329114 30.5106914\n",
      " 30.60263982 30.69075691 30.67411773 30.631653   30.61733141 30.63124503\n",
      " 30.63734057 30.62977551 30.63010402 30.60102275 30.5669001  30.56498568\n",
      " 30.57855742 30.58479412 30.58039858 30.58118388 30.60939786 30.64102898\n",
      " 30.746993   30.80665429 30.94190409 31.16884946 31.4750245  32.02027788\n",
      " 32.44748167 32.73328387 32.79956597 32.61644543 32.24126789 31.78178523\n",
      " 31.13557582 30.63577019 30.55134133 30.48427016 30.43581531 30.42265686\n",
      " 30.40451394 30.40499674 30.40915886 30.44487588 30.48813453 30.51137443\n",
      " 30.39220412 30.41725796 30.4237159  30.43227318 30.45346207 30.46970969\n",
      " 30.4851636  30.48267167 30.47301412 30.47166394 30.4461855  30.40590243\n",
      " 30.76693375 31.14869561 31.71684286 31.71224975 31.34005158 31.02129912\n",
      " 30.56082622 30.41116405 30.46207626 30.50554636 30.54417657 30.5859728\n",
      " 30.62204641 30.63968596 30.63853516 30.64980235 30.70430857 30.74392538\n",
      " 30.78706824 31.09256345 31.51142859 31.88347857 32.22875057 32.54574966\n",
      " 32.80855602 33.07205632 33.22649227 33.25056571 33.30832169 33.43123427\n",
      " 33.58100161 33.72427745 33.93009528 33.9961367  33.88071369 33.70851039\n",
      " 33.42746417 33.15402022 32.83299952 32.56518374 32.4269044  32.3473937\n",
      " 32.30222135 32.20611209 32.07407756 31.82228909 31.32787378 30.62314328\n",
      " 30.41974186 31.10727233 31.7599436  32.10695043 31.76605907 31.11489016\n",
      " 30.63527077 30.41718266 30.46292446 30.49511374 30.51744242 30.53616989\n",
      " 30.57650973 30.62831885 30.71401118 30.82925966 30.96986003 31.14088388\n",
      " 31.33602697 31.46657002 31.63065593 31.78746714 31.86204149 31.87273445\n",
      " 31.88353846 32.2162844  32.46693054 32.84260855 33.41117122 34.23249938\n",
      " 35.16880367 36.0384418  36.72020771 37.31796264 37.78886949 38.04986972\n",
      " 38.11779228 38.04093594 37.674514   37.19113818 36.47829796 35.72693463\n",
      " 34.97775494 34.11155828 33.39675078 32.99124828 32.84361064 33.0044973\n",
      " 33.30123941 33.7458474  34.12702311 34.54633313 34.87686152 34.83776225\n",
      " 34.68895216 34.36612141 33.93249727 33.48588296 32.95885154 32.52226301\n",
      " 31.50951619 30.61169992 30.48373845 32.73043949 32.72704049 32.5051313\n",
      " 32.28162169 32.04685376 31.8002475  31.65736412 31.63493066 31.70979796\n",
      " 31.83486795 32.02267135 32.27345831 32.54307148 32.7880568  31.6150187\n",
      " 30.44779426 30.6135688  31.40969036 32.24060726 33.0865113  33.74346802\n",
      " 34.26227577 34.50836764 34.45610457 34.22489131 34.04113919 33.80685657\n",
      " 33.38803743 32.54751913 31.46744463 30.56056838 30.62396228 32.63207659\n",
      " 32.79211364 32.64301127 32.54648821 32.50218003 32.5107672  32.53411782\n",
      " 32.54463231 32.54530121 32.55509499 32.63430346 32.7510352  32.84693439\n",
      " 32.89114152 32.89858011 32.86203797 32.77964135 32.63223248 32.48869939\n",
      " 32.35827151 32.26781878 32.19507795 32.16895127 32.1444656  32.12036456\n",
      " 32.1093636  32.15079611 32.22631991 32.32276869 32.4110347  32.51061749\n",
      " 32.60020357 32.67552465]\n"
     ]
    }
   ],
   "source": [
    "pred =model.predict(X)\n",
    "print(pred)"
   ]
  },
  {
   "cell_type": "code",
   "execution_count": 38,
   "id": "bffd24fd",
   "metadata": {},
   "outputs": [
    {
     "data": {
      "text/plain": [
       "1.492254540196136"
      ]
     },
     "execution_count": 38,
     "metadata": {},
     "output_type": "execute_result"
    }
   ],
   "source": [
    "rmse =mean_squared_error(Y, pred)** 0.5\n",
    "rmse\n",
    "\n",
    "#RMSE > 1 model very bad, \n",
    "# 0.2<RMSE<0.5 show good model, high possibility to predict accurately"
   ]
  },
  {
   "cell_type": "code",
   "execution_count": 59,
   "id": "eaee4980",
   "metadata": {},
   "outputs": [
    {
     "data": {
      "text/plain": [
       "['DBSNN']"
      ]
     },
     "execution_count": 59,
     "metadata": {},
     "output_type": "execute_result"
    }
   ],
   "source": [
    "#Save file\n",
    "import joblib\n",
    "joblib.dump(model,\"DBSNN\")"
   ]
  },
  {
   "cell_type": "code",
   "execution_count": null,
   "id": "0043c8a0",
   "metadata": {},
   "outputs": [],
   "source": []
  },
  {
   "cell_type": "code",
   "execution_count": null,
   "id": "6c637476",
   "metadata": {},
   "outputs": [],
   "source": []
  }
 ],
 "metadata": {
  "kernelspec": {
   "display_name": "Python 3 (ipykernel)",
   "language": "python",
   "name": "python3"
  },
  "language_info": {
   "codemirror_mode": {
    "name": "ipython",
    "version": 3
   },
   "file_extension": ".py",
   "mimetype": "text/x-python",
   "name": "python",
   "nbconvert_exporter": "python",
   "pygments_lexer": "ipython3",
   "version": "3.10.9"
  }
 },
 "nbformat": 4,
 "nbformat_minor": 5
}
